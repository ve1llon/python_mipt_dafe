{
 "cells": [
  {
   "cell_type": "markdown",
   "id": "6a6d8197",
   "metadata": {},
   "source": [
    "# Семинар 2. Пользовательские функции. Практика.\n",
    "\n",
    "Данный семинар посвящен функциям в Python."
   ]
  },
  {
   "cell_type": "markdown",
   "id": "7d757197",
   "metadata": {},
   "source": [
    "## Задание 1. Чтение OBJ-файла"
   ]
  },
  {
   "cell_type": "markdown",
   "id": "e97c0de4",
   "metadata": {},
   "source": [
    "### Работа с файлами в Python:"
   ]
  },
  {
   "cell_type": "markdown",
   "id": "a6e51f43",
   "metadata": {},
   "source": [
    "В Python работа с файлами является достаточно простой. В целом пайплайн работы с файлами может быть описан так:"
   ]
  },
  {
   "cell_type": "markdown",
   "id": "1fbfc973",
   "metadata": {},
   "source": [
    "**Чтение:**\n",
    "\n",
    "```Python\n",
    "f = open('path/to/file.txt', 'r')    # открываем наш файл для чтения\n",
    "\n",
    "for line in f:                       # считываем строки нашего файла\n",
    "    perform_some_actions(line)       # выполняем действия со считанными строками\n",
    "    \n",
    "f.close()                            # закрываем файл после работы с ним\n",
    "```\n",
    "\n",
    "**Запись:**\n",
    "\n",
    "```Python\n",
    "f = open('path/to/file.csv', 'a')    # открываем файл на дозапись\n",
    "\n",
    "result = perform_computations()      # производим необходимые вычисления\n",
    "f.write(str(result))                 # записываем результат в файл\n",
    "\n",
    "f.close()                            # закрываем файл после работы с ним\n",
    "```"
   ]
  },
  {
   "cell_type": "markdown",
   "id": "01e46901",
   "metadata": {},
   "source": [
    "Подобный подход являет понятным и последовательным, однако он содержит одну серьезную уязвимость. Подумайте какую?\n",
    "\n",
    "Для устранения данной уязвимости принято использовать контекстные менеджеры. С использованием контекстных менеджеров рассмотренные выше примеры примут следующий вид:\n",
    "\n",
    "**Чтение:**\n",
    "\n",
    "```Python\n",
    "with open('path/to/file.txt', 'r') as file:    # открываем наш файл для чтения\n",
    "    for line in file:                          # считываем строки нашего файла\n",
    "        perform_some_actions(line)             # выполняем действия со считанными строками\n",
    "```\n",
    "\n",
    "**Запись:**\n",
    "\n",
    "```Python\n",
    "with open('path/to/file.csv', 'a') as file:    # открываем файл на дозапись\n",
    "    result = perform_computations()            # производим необходимые вычисления\n",
    "    file.write(str(result))                    # записываем результат в файл\n",
    "```\n",
    "\n",
    "**Важно:** при работе с файлами старайтесь использовать именно контекстные менеджеры (с помощью ключевого слова `with`), поскольку данный подход наиболее безопасен. "
   ]
  },
  {
   "cell_type": "markdown",
   "id": "5948df37",
   "metadata": {},
   "source": [
    "### Формулировка задачи.\n",
    "\n",
    "Согласно [википедии](https://ru.wikipedia.org/wiki/Obj), OBJ - это формат файлов описания геометрии. OBJ-файл состоит из строк, содержащих определенные метки, после которых записывается опредленное меткой содержимое. Существуют следующие метки:\n",
    "\n",
    "- `#` - метка комментария, содержимое строки, идущее после данной метки игнорируется:\n",
    "```Python\n",
    "# Some useful comment\n",
    "```\n",
    "- `v` - метка геометрической вершины; после данной метки через пробел записываются три числа с плавающей точкой - координаты вершины:\n",
    "```Python\n",
    "v 0.145 67 38\n",
    "```\n",
    "- `vn` - метка вектора нормали к геометрической вершине; после данной метки через пробел записываются три числа с плавающей точкой - координаты вектора:\n",
    "```Python\n",
    "vn -0.7424 0.1369 0.6559\n",
    "```\n",
    "- `vt` - метка текстурных координат; после данной метки через пробел записываются от 2 до 3 чисел с плавающей точкой:\n",
    "```Python\n",
    "vt 0.500 -1.352\n",
    "vt 0.600 4.54 0.234\n",
    "```\n",
    "- `f` - метка фацета (поверхности); поверхность может быть задана тремя и более индексами(целыми числами - порядковыми номерами вершин) геометрических вершин, причем индексация начинается с 1; поверхность может быть задана перечнем индексов геометрических вершин и индексов текстурных координа; поверхность может быть задана перечнем индексов геометрических вершин и индексов вектором нормалей; поверхность может быть задана перечнем индексов геометрических вершин, текстурных координат и вершин нормалей:\n",
    "```Python\n",
    "f v1 v2 v3                               # только вершины\n",
    "f v1/vt1 v2/vt2 v3/vt3 ...               # вершины/текстуры\n",
    "f v1//vn1 v2//vn2 v3//vn3 ...            # вершины//нормали\n",
    "f v1/vt1/vn1 v2/vt2/vn2 v3/vt3/vn3 ...   # вершины/текстуры/нормали\n",
    "```\n",
    "\n",
    "После прочтения файла программисту будет доступно 6 массивов с данными, описывающими некоторую 3D-модель:\n",
    "\n",
    "- `v` - двумерный массив чисел с плавающей точкой; каждая строка массива - список координат геометрической вершины;\n",
    "- `vn` - двумерный массив чисел с плавающей точкой; каждая строка массива - список координат вектора нормали;\n",
    "- `vt` - двумерный массив чисел с плавающей точкой; каждая строка массива - список текстурных координат;\n",
    "- `f` - двумерный массив целых чисел; каждая строка - список индексов геометрических вершин, составляющих поверхность; \n",
    "- `fn` - двумерный массив целых чисел; каждая строка - список индексов векторов нормалей к вершинам, составляющим поверхность;\n",
    "- `ft` - двумерный массив целых чисел; каждая строка - список индексов текстурных координат, составляющих поверхность; \n",
    "\n",
    "**Ваша задача заключается в реализации функции, которая осуществляла бы чтение OBJ-файла.**"
   ]
  },
  {
   "cell_type": "markdown",
   "id": "97aa622c",
   "metadata": {},
   "source": [
    "### Решение."
   ]
  },
  {
   "cell_type": "code",
   "execution_count": 1,
   "id": "3fdd6ba5",
   "metadata": {},
   "outputs": [],
   "source": [
    "def read_obj(filename):\n",
    "    \"\"\"\n",
    "    Функция для чтения OBJ-файлов\n",
    "    ------------------------------------------------------------\n",
    "    :param filename: строка - путь к OBJ-файлу\n",
    "    ------------------------------------------------------------\n",
    "    :return: словарь, состоящий из 6 пар ключ-значени\n",
    "    \n",
    "    ключ 'v': значение - массив геометрических вершин\n",
    "    ключ 'vn': значение - массив векторов нормалей\n",
    "    ключ 'vt': значение - массив текстурных координат\n",
    "    ключ 'f': значение - массив фацетов\n",
    "    ключ 'fn': значение - массив векторов нормалей к фацетам\n",
    "    ключ 'ft': значение - массив текстурных координат фацетов\n",
    "    ------------------------------------------------------------\n",
    "    \n",
    "    \"\"\"\n",
    "    \n",
    "    data_dict = {'v': [], 'vn': [], 'vt': [],\n",
    "                 'f': [], 'fn': [], 'ft': []}\n",
    "    \n",
    "    #ВАШ КОД\n",
    "                    \n",
    "    return data_dict"
   ]
  },
  {
   "cell_type": "markdown",
   "id": "60653a8e",
   "metadata": {},
   "source": [
    "### Проверка.\n",
    "\n",
    "В качестве проверки сравним результат работы нашей функции с библиотечной реализацией. "
   ]
  },
  {
   "cell_type": "code",
   "execution_count": 2,
   "id": "2af5e989",
   "metadata": {},
   "outputs": [],
   "source": [
    "#НЕ МЕНЯТЬ КОД В ЭТОЙ ЯЧЕЙКЕ\n",
    "# !conda install -c conda-forge igl\n",
    "import numpy as np\n",
    "import igl"
   ]
  },
  {
   "cell_type": "code",
   "execution_count": 3,
   "id": "3ba9ac4d",
   "metadata": {},
   "outputs": [],
   "source": [
    "#НЕ МЕНЯТЬ КОД В ЭТОЙ ЯЧЕЙКЕ\n",
    "filename = './two_ships.obj'"
   ]
  },
  {
   "cell_type": "code",
   "execution_count": 4,
   "id": "02bb87bc",
   "metadata": {},
   "outputs": [],
   "source": [
    "#НЕ МЕНЯТЬ КОД В ЭТОЙ ЯЧЕЙКЕ\n",
    "data_custom = read_obj(filename)\n",
    "\n",
    "v, vt, vn, f, ft, fn = igl.read_obj(filename)\n",
    "data_igl = {'v': v, 'vt': vt, 'vn': vn,\n",
    "            'f': f, 'ft': ft, 'fn': fn}"
   ]
  },
  {
   "cell_type": "code",
   "execution_count": 5,
   "id": "bab8678e",
   "metadata": {},
   "outputs": [
    {
     "name": "stdout",
     "output_type": "stream",
     "text": [
      "[status]: SUCCESS;\n"
     ]
    }
   ],
   "source": [
    "#НЕ МЕНЯТЬ КОД В ЭТОЙ ЯЧЕЙКЕ\n",
    "for key in data_custom.keys():\n",
    "    assert np.all(np.array(data_custom[key]) == data_igl[key]), f'{key}'\n",
    "    \n",
    "print('[status]: SUCCESS;')"
   ]
  },
  {
   "cell_type": "markdown",
   "id": "ea21e107",
   "metadata": {},
   "source": [
    "___"
   ]
  },
  {
   "cell_type": "markdown",
   "id": "50d86b9f",
   "metadata": {},
   "source": [
    "## Задание 2. Свой map."
   ]
  },
  {
   "cell_type": "markdown",
   "id": "936b00c3",
   "metadata": {},
   "source": [
    "###  Формулировка задачи.\n",
    "\n",
    "Функция `map` - функция высшего порядка, принимающая на вход функцию и итерируемый объект. Результатом ее работы является приминение переданной функции к каждому элементу переданного итерируемого объекта. Возвращает итератор. \n",
    "\n",
    "Функция `map` имеет следующую сигнатру:\n",
    "```Python\n",
    "map(func, *iterables) --> map object\n",
    "```\n",
    "\n",
    "**Ваша задача реализовать функцию `my_map`, которая ведет себя аналогично функции `map`.**"
   ]
  },
  {
   "cell_type": "markdown",
   "id": "a9a458cc",
   "metadata": {},
   "source": [
    "### Решение.\n",
    "\n",
    "При решении вам может пригодиться функция `zip`. "
   ]
  },
  {
   "cell_type": "code",
   "execution_count": 6,
   "id": "cfc91d81",
   "metadata": {},
   "outputs": [],
   "source": [
    "def my_map(func, *iterables):\n",
    "    \"\"\"\n",
    "    Эта функция ведет себя так же как и map \n",
    "    \n",
    "    \"\"\"\n",
    "    \n",
    "    # ВАШ КОД\n",
    "    pass"
   ]
  },
  {
   "cell_type": "markdown",
   "id": "8f45a221",
   "metadata": {},
   "source": [
    "### Проверка.\n",
    "\n",
    "Для проверки нам потребуется написать несколько функций:"
   ]
  },
  {
   "cell_type": "markdown",
   "id": "96ecc303",
   "metadata": {},
   "source": [
    "**Функция одного аргумента:**\n",
    "\n",
    "В качестве функции одного аргумента мы напишем функцию, принимающее на вход произвольное число и возводящее его в квадрат. Поскольку это достаточно примитивная функция, вы должны реализовать ее в виде анонимной функции(лямбда-функции) и сохранить результат в переменной `square`."
   ]
  },
  {
   "cell_type": "code",
   "execution_count": 7,
   "id": "1dbb1daa",
   "metadata": {},
   "outputs": [],
   "source": [
    "square = # ВАШ КОД"
   ]
  },
  {
   "cell_type": "markdown",
   "id": "fe3b0528",
   "metadata": {},
   "source": [
    "**Функция двух аргументов:**\n",
    "\n",
    "В качестве функции двух аргументов мы реализуем функцию возведения в степень, принимающую в качестве аргументов два числа: основание степени и саму степень. "
   ]
  },
  {
   "cell_type": "code",
   "execution_count": 8,
   "id": "e72800ac",
   "metadata": {},
   "outputs": [],
   "source": [
    "def my_pow(base, exp):\n",
    "    # ВАШ КОД\n",
    "    pass"
   ]
  },
  {
   "cell_type": "markdown",
   "id": "d63f81b0",
   "metadata": {},
   "source": [
    "**Функция произвольного числа аргументов:**\n",
    "\n",
    "В качестве функции произвольного числа аргументов мы реализуем функцию конкатенации произвольного числа списков."
   ]
  },
  {
   "cell_type": "code",
   "execution_count": 9,
   "id": "7277783e",
   "metadata": {},
   "outputs": [],
   "source": [
    "def concatinate_lists(*lists):\n",
    "    \"\"\"\n",
    "    Функция для конкотенации произвольного числа\n",
    "    списков\n",
    "    \n",
    "    \"\"\"\n",
    "    result = []\n",
    "    # ВАШ КОД\n",
    "        \n",
    "    return result"
   ]
  },
  {
   "cell_type": "markdown",
   "id": "1d83e092",
   "metadata": {},
   "source": [
    "___"
   ]
  },
  {
   "cell_type": "code",
   "execution_count": 10,
   "id": "dd6bf0e3",
   "metadata": {},
   "outputs": [],
   "source": [
    "#НЕ МЕНЯТЬ КОД В ЭТОЙ ЯЧЕЙКЕ\n",
    "arr1 = list(range(10))\n",
    "arr2 = [i for i in range(20) if i % 2 == 0]\n",
    "arr3 = arr1[:-1]"
   ]
  },
  {
   "cell_type": "code",
   "execution_count": 11,
   "id": "fb32918f",
   "metadata": {},
   "outputs": [],
   "source": [
    "#НЕ МЕНЯТЬ КОД В ЭТОЙ ЯЧЕЙКЕ\n",
    "assert map(square, arr1) != my_map(square, arr1)\n",
    "assert map(my_pow, arr1, arr2) != my_map(my_pow, arr1, arr2)\n",
    "assert map(my_pow, arr1, arr3) != my_map(my_pow, arr1, arr3)\n",
    "assert map(my_pow, arr3, arr1) != my_map(my_pow, arr3, arr1)"
   ]
  },
  {
   "cell_type": "code",
   "execution_count": 12,
   "id": "5fd44d20",
   "metadata": {},
   "outputs": [],
   "source": [
    "#НЕ МЕНЯТЬ КОД В ЭТОЙ ЯЧЕЙКЕ\n",
    "arr1 = [[1, 2], [3, 4, 5]]\n",
    "arr2 = [[6, 7], [8, 9]]\n",
    "arr3 = [[1, 2, 4, 5], [4, 5, 6], [7, 8]]"
   ]
  },
  {
   "cell_type": "code",
   "execution_count": 13,
   "id": "59f0906b",
   "metadata": {},
   "outputs": [],
   "source": [
    "#НЕ МЕНЯТЬ КОД В ЭТОЙ ЯЧЕЙКЕ\n",
    "assert map(concatinate_lists, arr1, arr2, arr3) != my_map(concatinate_lists, arr1, arr2, arr3)"
   ]
  },
  {
   "cell_type": "code",
   "execution_count": 27,
   "id": "1ee35dbd",
   "metadata": {},
   "outputs": [
    {
     "name": "stdout",
     "output_type": "stream",
     "text": [
      "[status]: SUCCESS;\n"
     ]
    }
   ],
   "source": [
    "#НЕ МЕНЯТЬ КОД В ЭТОЙ ЯЧЕЙКЕ\n",
    "print('[status]: SUCCESS;')"
   ]
  },
  {
   "cell_type": "markdown",
   "id": "da3832c4",
   "metadata": {},
   "source": [
    "___"
   ]
  },
  {
   "cell_type": "markdown",
   "id": "d6c741c9",
   "metadata": {},
   "source": [
    "## Задание 3. Декоратор timer. "
   ]
  },
  {
   "cell_type": "markdown",
   "id": "9690bc90",
   "metadata": {},
   "source": [
    "## Формулировка задачи.\n",
    "\n",
    "Необходимо реализовать декоратор timer, который при каждом вызове функции будет выводить время её работы, а также строку, содержащую вызов функции в следующем формете:\n",
    "\n",
    "```Python\n",
    "[0.0056]: my_function(1, 2, 3, a=4, b=5);\n",
    "```"
   ]
  },
  {
   "cell_type": "markdown",
   "id": "16f8fef4",
   "metadata": {},
   "source": [
    "### Решение."
   ]
  },
  {
   "cell_type": "code",
   "execution_count": 15,
   "id": "b33db144",
   "metadata": {},
   "outputs": [],
   "source": [
    "from time import time"
   ]
  },
  {
   "cell_type": "code",
   "execution_count": 16,
   "id": "d76f3320",
   "metadata": {},
   "outputs": [],
   "source": [
    "def timer(func):\n",
    "    # ВАШ КОД\n",
    "    return func"
   ]
  },
  {
   "cell_type": "markdown",
   "id": "7918b5ff",
   "metadata": {},
   "source": [
    "### Проверка.\n",
    "\n",
    "Для проверки реализауем \"глупую\"(посколько сортировка будет осуществляться не in-place) функцию быстрой сортировки:"
   ]
  },
  {
   "cell_type": "code",
   "execution_count": 21,
   "id": "f08044b0",
   "metadata": {},
   "outputs": [],
   "source": [
    "@timer\n",
    "def dumb_quick_sort(array):\n",
    "    # ВАШ КОД\n",
    "    return array"
   ]
  },
  {
   "cell_type": "markdown",
   "id": "de70a9b5",
   "metadata": {},
   "source": [
    "___"
   ]
  },
  {
   "cell_type": "code",
   "execution_count": 22,
   "id": "51766fa9",
   "metadata": {},
   "outputs": [
    {
     "data": {
      "text/plain": [
       "array([-18,  12,  -7,  21,  34, -16, -21, -28, -43, -43, -14,  33,  34,\n",
       "       -33,  44,  15,  -5,   7, -16, -50])"
      ]
     },
     "execution_count": 22,
     "metadata": {},
     "output_type": "execute_result"
    }
   ],
   "source": [
    "#НЕ МЕНЯТЬ КОД В ЭТОЙ ЯЧЕЙКЕ\n",
    "arr = np.random.randint(low=-50, high=50, size=20)\n",
    "arr"
   ]
  },
  {
   "cell_type": "code",
   "execution_count": 23,
   "id": "3e68698d",
   "metadata": {},
   "outputs": [
    {
     "name": "stdout",
     "output_type": "stream",
     "text": [
      "[0.0]: quick_sort([-50]);\n",
      "[0.0]: quick_sort([-33]);\n",
      "[0.0]: quick_sort([]);\n",
      "[0.0]: quick_sort([-18]);\n",
      "[0.0]: quick_sort([]);\n",
      "[0.0]: quick_sort([-18, -16, -16]);\n",
      "[0.0]: quick_sort([-18, -16, -21, -16]);\n",
      "[0.0]: quick_sort([-18, -16, -21, -28, -33, -16]);\n",
      "[0.0]: quick_sort([-18, -16, -21, -28, -43, -43, -33, -16, -50]);\n",
      "[0.0]: quick_sort([-7]);\n",
      "[0.0]: quick_sort([]);\n",
      "[0.0]: quick_sort([12]);\n",
      "[0.0]: quick_sort([12, 7]);\n",
      "[0.0]: quick_sort([12, -7, -5, 7]);\n",
      "[0.0]: quick_sort([21]);\n",
      "[0.0]: quick_sort([12, -7, 21, 15, -5, 7]);\n",
      "[0.0]: quick_sort([]);\n",
      "[0.0]: quick_sort([12, -7, 21, 33, 15, -5, 7]);\n",
      "[0.0]: quick_sort([44]);\n",
      "[0.0]: quick_sort([12, -7, 21, 34, 33, 34, 44, 15, -5, 7]);\n",
      "[0.0005402565002441406]: quick_sort(array([-18,  12,  -7,  21,  34, -16, -21, -28, -43, -43, -14,  33,  34,\n",
      "       -33,  44,  15,  -5,   7, -16, -50]));\n"
     ]
    }
   ],
   "source": [
    "#НЕ МЕНЯТЬ КОД В ЭТОЙ ЯЧЕЙКЕ\n",
    "dumb_quick_sort(arr);"
   ]
  },
  {
   "cell_type": "markdown",
   "id": "c0ff72c0",
   "metadata": {},
   "source": [
    "___"
   ]
  }
 ],
 "metadata": {
  "kernelspec": {
   "display_name": "Python 3 (ipykernel)",
   "language": "python",
   "name": "python3"
  },
  "language_info": {
   "codemirror_mode": {
    "name": "ipython",
    "version": 3
   },
   "file_extension": ".py",
   "mimetype": "text/x-python",
   "name": "python",
   "nbconvert_exporter": "python",
   "pygments_lexer": "ipython3",
   "version": "3.9.12"
  }
 },
 "nbformat": 4,
 "nbformat_minor": 5
}
